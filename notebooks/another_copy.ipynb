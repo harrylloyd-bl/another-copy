{
 "cells": [
  {
   "cell_type": "code",
   "execution_count": 4,
   "id": "cf61447c-da1d-4cfd-a6c3-2aae5416456f",
   "metadata": {},
   "outputs": [],
   "source": [
    "import re\n",
    "import pandas as pd"
   ]
  },
  {
   "cell_type": "code",
   "execution_count": 9,
   "id": "7af28d5d-a2c6-4342-93b9-8184c52cd970",
   "metadata": {},
   "outputs": [],
   "source": [
    "entry_df = pd.read_csv(\"../data/processed/incu_ocr_bll_matching_v1.4.csv\", index_col=0)"
   ]
  },
  {
   "cell_type": "code",
   "execution_count": 13,
   "id": "f10cf328-40f8-4542-824f-9fdb3977e90f",
   "metadata": {},
   "outputs": [
    {
     "data": {
      "text/plain": [
       "(8774, 11)"
      ]
     },
     "execution_count": 13,
     "metadata": {},
     "output_type": "execute_result"
    }
   ],
   "source": [
    "entry_df.shape"
   ]
  },
  {
   "cell_type": "code",
   "execution_count": 14,
   "id": "1f0d24e5-25b4-46ca-916d-e2b2bcf77182",
   "metadata": {},
   "outputs": [],
   "source": [
    "copy_re = re.compile(\"Another \\S*\")\n",
    "anothers = entry_df[\"entry_text\"].apply(lambda x: copy_re.search(x))\n",
    "copy_variants = sorted(list(set(anothers.apply(lambda x: x.group() if x else None).dropna())))\n",
    "copy_variants\n",
    "\n",
    "entry_df[\"match\"] = entry_df[\"entry_text\"].apply(lambda x: copy_re.search(x))\n",
    "# entry_df[\"preceding_shelfmark\"] = entry_df.apply(check_for_leading_shelfmark, axis=1)"
   ]
  },
  {
   "cell_type": "code",
   "execution_count": 27,
   "id": "61050908-70a1-4160-9368-867caa3b0b6d",
   "metadata": {},
   "outputs": [
    {
     "name": "stdout",
     "output_type": "stream",
     "text": [
      "THEOCRITUS. EiSvANta. (With other tracts)\n",
      "February, 14956.\n",
      "r. TITLE: TAAE ENEETI'ENTHIAETHIBIBAOL.\n",
      "Oeonoiro id  a  ra\n",
      "... (l. 18) Haec insunt in hoc libro. Theocriti Ecloga\n",
      "triginta. Genus Theocriti & de inuentione bucolicorum.\n",
      "Catonis Romani sententiae paræneticae distichi.e\n",
      "tentiae septem sapientum. De Inuidia. Theognidis\n",
      "megarensis siculi sententiae elegiacae. Sententiae mono¬\n",
      "stichi per Capita ex uariis poetis. Aurea Carmina\n",
      "Pythagoroe. Phocylidae Poema admonitorium. Carmina\n",
      "Sibyllæ erythroea de Christo lesu domino nro. Differetia\n",
      "uocis. Hesiodi Theogonia. Eiusdem scutum Herculis.\n",
      "Eiusdem georgicon libri duo. 1408. COLOPHON : Im¬\n",
      "pressum Venetiis characteribus ac studio Aldi Manuc\n",
      "Ro mani cum gratia &c. . M. CCCC. XCV. Mense febru¬\n",
      "ario. 1406. TITLE: In hoc volumine continentur haec\n",
      "Hesiodi Ascraei poetae Theogonia. hoc est de generatione\n",
      "deoru opusculum. Eiusde Aspis. hoc est de scuto\n",
      "Herculis opusculum. Eiusdem Georgicorum libri duo dicti\n",
      "Erga & Himerae. idest opera & dies.\n",
      "Folio. A-A-A-D8 E-E-O-G'; AA aa-AA-808 EE-se zZ-((10; a:a 8-b8\n",
      "yclo; oedee. 140 leaves. 32 : 30 lines, 219X 103 (110) mm.\n",
      "Types: 146 Gk.; 114 R., title on 12; 83 R., text on 1b colophon.\n",
      "title on 140°. Woodcut capitals and borders. Initials of inter¬\n",
      "locutors set out. Catchwords, except in a-a-y.c. Hain '15477.\n",
      "1a title; 1°, Aldus Baptistae Guarino s. p. d.; 22, Theocritus ;\n",
      "50%, blank: 51° Theognis; 892 Disticha of Dionysius Cato, trans¬\n",
      "lated into Greek hexameters by Maximus Planudes; 952, sentences\n",
      "of the Seven Sages; 97°, repi g6óvov : 98a register of quires A-A¬\n",
      "G; 98°, blank; 99e, Hotéôov Oeoyovia; 125° Hotóôov Epya xai\n",
      "juépat ; 139, register of quires aa-ce; 140e, colophon; 140°, title.\n",
      "The order of the contents here given follows the quiring. The\n",
      "title, by putting Cato, the Seven Sages, and De inuidia immediately\n",
      "after Theocritus, involves the precedence of quire Zz-(( over quires\n",
      "AA aa-EE-ee The register ignores quires AA-aa-zZmp.\n",
      "In his prefatory letter on 1b Aldus speaks of Apollonius Gram¬\n",
      "maticus (whose work forms part of the Gaza volume) as already\n",
      "printed.\n",
      "On 43° (Z-F 52) the text of the idyl METAPA TYNH HPAKAEOY2\n",
      "is interrupted after l. 13 (ExérAtos... d), the place of the\n",
      "remainder being taken by l. 35-end of the EIIITAGIOZ BIONO2,\n",
      "which has already appeared in its right place on E-E 22, &c. On\n",
      "this follows the idyl AIO2KOYPOI (near end of Z-F 6b), from which\n",
      "Il. 45-91 are omitted on 0-G1b then that here entitled MI2ON\n",
      "bIAEONTA [i.e. ’Epagris), 2YPITE, EIZ NEKPON AAQNIN, TENO2\n",
      "OEOKPITOY and HEPI EYPEZEQZ TON BOYKOAIKON.\n",
      "Type 114 R. here looks fresh, but has no accents.\n",
      "Venduntur non minoris marcellis octo' (Aldus's list of 1498).\n",
      "300 x 205 mm. Red ms. rules round title.\n",
      "King George III's copy (C. 1. c. 2).\n",
      "IB. 24404.\n",
      "IA. 24412. Another copy.\n",
      "305 x 207 mm. Red ms. rules round text throughout.\n",
      "The first two leaves are made up.\n",
      "Cracherode copy, with date 1789. IB. 24405a.\n",
      "Another copy.\n",
      "319X212 mm. Quire ZZ.( (Cato, etc.) is bound\n",
      "before quire AA. aa. On a fly-leaf is written: WS. 1804.\n",
      "Grenville copy (G. 8680).\n",
      "IB. 24405.\n",
      "Another copy.\n",
      "298 x 205 mm. Quire ZZ.Cbound before quire AA.aa.\n",
      "Early Italian stamped leather.\n",
      "IB. 24402\n",
      "Bought.\n",
      "Another copy, wanting Theocritus.\n",
      "318X 218 mm. Bound thus: quires ôd, ee, a.a-y.c,\n",
      "AAaa-ZZ-g. Quires ôd, ee (Works and Days) have\n",
      "copious ms. notes by Demetrius Chalcondylas. Or\n",
      "yc 10b is written: Antonij Seripandi ex Iani Parrhasij\n",
      "testamento. With the armorial bookplate of — Smith.\n",
      "IB. 24403.\n",
      "Bought in January, 1855.\n",
      "Another issue, with part of quire Z.F and the\n",
      "whole of quire O-G reprinted.\n",
      "In this issue the omitted text of the METAPA beginning Hé rivos\n",
      "goôv, appears in its right place (432, &c.) and is followed by the\n",
      "o on O-G 1e the Epaoris on 0-G 4°, the yg on 0-G62\n",
      "printed within a goblet-shaped woodcut figure, and the EIZ NEKPON\n",
      "AAONIN on the last page of the quire. These alterations involved\n",
      "the reprinting of both quires with the exception of the inner sheet\n",
      "of Z-F.\n",
      "310X 209 mm. Red ms. rules round each page of\n",
      "text. Bound in blue-grey morocco by Bradel l'aîné,\n",
      "quire ZZ'g appearing before quire AA aa.\n",
      "Grenville copy (G. 8681).\n",
      "IB. 24408.\n",
      "Another copy.\n",
      "277X 163 mm. With the book-label of Dr. Charles\n",
      "Burney. The second leaf is mutilated, the text being\n",
      "made good in pen-and-ink facsimile.\n",
      "Bought.\n",
      "IB. 24407.\n",
      "Another copy.\n",
      "282X 197 mm. Imperfect, wanting sheet Z'F 3.\n",
      "Quire ZZ'g is bound before quire AA'aa. Bound in\n",
      "red morocco, stamped with the cypher of King Charles II.\n",
      "IB. 24406.\n"
     ]
    }
   ],
   "source": [
    "print(entry_df.loc[5400, \"entry_text\"])"
   ]
  },
  {
   "cell_type": "code",
   "execution_count": 24,
   "id": "cc751492-f5f2-481e-8eee-9152f701389c",
   "metadata": {},
   "outputs": [
    {
     "data": {
      "text/plain": [
       "5400"
      ]
     },
     "execution_count": 24,
     "metadata": {},
     "output_type": "execute_result"
    }
   ],
   "source": [
    "entry_df[\"entry_text\"].str.count(\"Another copy\").idxmax()"
   ]
  },
  {
   "cell_type": "code",
   "execution_count": 18,
   "id": "04aa07df-33bf-4ea3-8f70-9dacfc26be73",
   "metadata": {},
   "outputs": [
    {
     "data": {
      "text/plain": [
       "array(['Another edition.', 'Another edition,', 'Another issue.',\n",
       "       'Another copy', 'Another copy.', 'Another cancelled',\n",
       "       'Another issue,', 'Another copy,', 'Another issue',\n",
       "       'Another calendar', 'Another fragment,', 'Another setting-up',\n",
       "       'Another edition', 'Another (crown', 'Another metrical',\n",
       "       'Another reading.', 'Another cut', 'Another calligraphic',\n",
       "       'Another setting', 'Another closely', 'Another full-page',\n",
       "       'Another version', 'Another recension', 'Another compartment'],\n",
       "      dtype=object)"
      ]
     },
     "execution_count": 18,
     "metadata": {},
     "output_type": "execute_result"
    }
   ],
   "source": [
    "entry_df[\"match\"].dropna().apply(lambda x: x.group()).unique()"
   ]
  },
  {
   "cell_type": "code",
   "execution_count": null,
   "id": "5d5eecc8-1947-4a42-b515-729fc3b600ba",
   "metadata": {},
   "outputs": [
    {
     "name": "stdout",
     "output_type": "stream",
     "text": [
      "Another calligraphic\n"
     ]
    },
    {
     "data": {
      "text/html": [
       "<div>\n",
       "<style scoped>\n",
       "    .dataframe tbody tr th:only-of-type {\n",
       "        vertical-align: middle;\n",
       "    }\n",
       "\n",
       "    .dataframe tbody tr th {\n",
       "        vertical-align: top;\n",
       "    }\n",
       "\n",
       "    .dataframe thead th {\n",
       "        text-align: right;\n",
       "    }\n",
       "</style>\n",
       "<table border=\"1\" class=\"dataframe\">\n",
       "  <thead>\n",
       "    <tr style=\"text-align: right;\">\n",
       "      <th></th>\n",
       "      <th>xmls</th>\n",
       "      <th>vol</th>\n",
       "      <th>col_pages</th>\n",
       "      <th>vol_entry_num</th>\n",
       "      <th>shelfmark</th>\n",
       "      <th>bll01_shelfmark</th>\n",
       "      <th>record_id</th>\n",
       "      <th>uncaptured_sm</th>\n",
       "      <th>entry_text</th>\n",
       "      <th>entry_text_spaces</th>\n",
       "      <th>match</th>\n",
       "    </tr>\n",
       "  </thead>\n",
       "  <tbody>\n",
       "    <tr>\n",
       "      <th>7681</th>\n",
       "      <td>['J_2704_aa_30_8_0260_4', 'J_2704_aa_30_8_0261...</td>\n",
       "      <td>8</td>\n",
       "      <td>4-36, 4-37,</td>\n",
       "      <td>463</td>\n",
       "      <td>IA. 40393</td>\n",
       "      <td>IA. 40393</td>\n",
       "      <td>1151969</td>\n",
       "      <td>0.0</td>\n",
       "      <td>DATES. Tréperel is not known to have printed a...</td>\n",
       "      <td>DATES. Tréperel is not known to have printed a...</td>\n",
       "      <td>&lt;re.Match object; span=(3670, 3690), match='An...</td>\n",
       "    </tr>\n",
       "  </tbody>\n",
       "</table>\n",
       "</div>"
      ],
      "text/plain": [
       "                                                   xmls  vol    col_pages   \n",
       "7681  ['J_2704_aa_30_8_0260_4', 'J_2704_aa_30_8_0261...    8  4-36, 4-37,  \\\n",
       "\n",
       "      vol_entry_num  shelfmark bll01_shelfmark record_id  uncaptured_sm   \n",
       "7681            463  IA. 40393       IA. 40393   1151969            0.0  \\\n",
       "\n",
       "                                             entry_text   \n",
       "7681  DATES. Tréperel is not known to have printed a...  \\\n",
       "\n",
       "                                      entry_text_spaces   \n",
       "7681  DATES. Tréperel is not known to have printed a...  \\\n",
       "\n",
       "                                                  match  \n",
       "7681  <re.Match object; span=(3670, 3690), match='An...  "
      ]
     },
     "execution_count": 12,
     "metadata": {},
     "output_type": "execute_result"
    }
   ],
   "source": [
    "x = 2\n",
    "print(copy_variants[x])\n",
    "entry_df[entry_df[\"entry_text\"].str.contains(copy_variants[x])]"
   ]
  },
  {
   "cell_type": "markdown",
   "id": "8c9e1e92-f14d-40bf-9512-8be614e3b2df",
   "metadata": {},
   "source": [
    "All the matches of the \"Another \\S*\" regex with statement as to whether consists of actual 'Another edition' information.\n",
    "\n",
    "'Another (crown': Not valid, referring to watermarks in the text  \n",
    "'Another calendar': Not valid, referring to calendars in the work  \n",
    "'Another calligraphic': Not valid, referring to calligraphic letters  \n",
    "'Another cancelled': Valid, has it's own Proctor # and copy specific info. There's also a copy before this that's just \"A cancelled copy\", but there's only one occurence of this.  \n",
    "'A cancelled': Valid, see above entry.  \n",
    "'Another closely': Not valid, describes another edition that's similar  \n",
    "'Another compartment': Not valid, part of the information rather than about another copy  \n",
    "'Another copy': Valid  \n",
    "'Another copy,': Subset of Another copy  \n",
    "'Another copy.': Subset of Another copy  \n",
    "'Another cut': Not valid  \n",
    "'Another edition': Valid  \n",
    "'Another edition,': Subset  \n",
    "'Another edition.': Subset  \n",
    "'Another fragment,': Valid  \n",
    "'Another full-page': Not valid  \n",
    "'Another issue': Valid  \n",
    "'Another issue,': Subset  \n",
    "'Another issue.': Subset  \n",
    "'Another metrical': Not valid  \n",
    "'Another reading.': Not valid  \n",
    "'Another recension': Not valid  \n",
    "'Another setting': Not valid  \n",
    "'Another setting-up': Subset  \n",
    "'Another version: Not valid  \n"
   ]
  },
  {
   "cell_type": "code",
   "execution_count": 1,
   "id": "e45b27c7-d02e-4a1a-a9b2-a8aaafbcfc03",
   "metadata": {},
   "outputs": [],
   "source": [
    "# Important 'Another' variants\n",
    "\n",
    "another_variants = [\n",
    "    'Another cancelled',\n",
    "    'A cancelled',\n",
    "    'Another copy',\n",
    "    'Another edition',\n",
    "    'Another fragment,',\n",
    "    'Another issue'\n",
    "]"
   ]
  },
  {
   "cell_type": "markdown",
   "id": "bdda53ee-6e26-4d1b-b937-76f17ac63989",
   "metadata": {},
   "source": [
    "Having a leading shelfmark is highly indicative of an 'Another copy' entry actually being another copy. Of course this relies on the shelfmark detection being accurate. In some cases this isn't so, see analysis below for efforts to improve Issac's shelfmark finding."
   ]
  },
  {
   "cell_type": "code",
   "execution_count": 2,
   "id": "da9e2147-2448-4cc5-8e35-4ec8f6a2dd5b",
   "metadata": {},
   "outputs": [],
   "source": [
    "# TODO some of the shelfmarks are absent - instead the Another copy has it's location listed as \"Print room\"\n",
    "# work out what to do with this"
   ]
  },
  {
   "cell_type": "markdown",
   "id": "4ab0bf77-4f28-454f-9555-80434186b709",
   "metadata": {},
   "source": [
    "### Function Development"
   ]
  },
  {
   "cell_type": "code",
   "execution_count": 3,
   "id": "134b95d8-8488-4459-b9e0-67657a18447b",
   "metadata": {},
   "outputs": [],
   "source": [
    "def extract_another_copy(row):\n",
    "    \"\"\"\n",
    "\n",
    "    :return:\n",
    "    \"\"\"\n",
    "    another_variants = [\n",
    "        'Another cancelled',\n",
    "        'A cancelled',\n",
    "        'Another copy',\n",
    "        'Another edition',\n",
    "        'Another fragment,',\n",
    "        'Another issue'\n",
    "    ]\n",
    "    \n",
    "    match = []\n",
    "    for v in another_variants:\n",
    "        p = re.compile(v)\n",
    "        m = p.finditer(row)\n",
    "        if m:\n",
    "            match += m\n",
    "    \n",
    "    if match:\n",
    "        return match\n",
    "    else:\n",
    "        return None"
   ]
  },
  {
   "cell_type": "code",
   "execution_count": null,
   "id": "d73762a5-2455-4bac-afc4-050b9de9275d",
   "metadata": {},
   "outputs": [],
   "source": []
  }
 ],
 "metadata": {
  "kernelspec": {
   "display_name": "Python [conda env:incu]",
   "language": "python",
   "name": "conda-env-incu-py"
  },
  "language_info": {
   "codemirror_mode": {
    "name": "ipython",
    "version": 3
   },
   "file_extension": ".py",
   "mimetype": "text/x-python",
   "name": "python",
   "nbconvert_exporter": "python",
   "pygments_lexer": "ipython3",
   "version": "3.11.2"
  }
 },
 "nbformat": 4,
 "nbformat_minor": 5
}
